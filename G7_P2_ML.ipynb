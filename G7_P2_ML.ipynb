{
  "nbformat": 4,
  "nbformat_minor": 0,
  "metadata": {
    "colab": {
      "provenance": [],
      "authorship_tag": "ABX9TyPmOuAa8VOIaRJtdmCpWzre",
      "include_colab_link": true
    },
    "kernelspec": {
      "name": "python3",
      "display_name": "Python 3"
    },
    "language_info": {
      "name": "python"
    }
  },
  "cells": [
    {
      "cell_type": "markdown",
      "metadata": {
        "id": "view-in-github",
        "colab_type": "text"
      },
      "source": [
        "<a href=\"https://colab.research.google.com/github/Natalia409634/Grupo7-practica2-ML/blob/main/G7_P2_ML.ipynb\" target=\"_parent\"><img src=\"https://colab.research.google.com/assets/colab-badge.svg\" alt=\"Open In Colab\"/></a>"
      ]
    },
    {
      "cell_type": "markdown",
      "source": [
        "Lectura de Datos\n",
        "\n",
        "```\n",
        "# This is formatted as code\n",
        "```\n",
        "\n"
      ],
      "metadata": {
        "id": "i5ROQqcffYdf"
      }
    },
    {
      "cell_type": "code",
      "execution_count": 2,
      "metadata": {
        "id": "Sv6IziSge_UG"
      },
      "outputs": [],
      "source": [
        "#HE DEJADO LOS DATOS AQUI--> \"/content/drive/MyDrive/Aprendizaje Automático/practica 2/datos grupos\"\n",
        "                    "
      ]
    },
    {
      "cell_type": "markdown",
      "source": [
        "Organizacion-> para el domingo 23 tener un EDA básico"
      ],
      "metadata": {
        "id": "iwM2HcnggHH2"
      }
    }
  ]
}